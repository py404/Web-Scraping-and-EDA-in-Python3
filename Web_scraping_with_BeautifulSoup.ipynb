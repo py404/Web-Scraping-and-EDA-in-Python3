{
 "cells": [
  {
   "cell_type": "markdown",
   "metadata": {},
   "source": [
    "# Web Scraping and EDA in Python 3 using Requests, BeautifulSoup, Pandas, Matplotlib, Seaborn"
   ]
  },
  {
   "cell_type": "markdown",
   "metadata": {},
   "source": [
    "# Source: \n",
    "## Thomas Brinkhoff: City Population, http://www.citypopulation.de\n",
    "\n",
    "In this jupyter notebook I will try to explain how to scrape content from a website using BeautifulSoup and Requests libraries.\n",
    "\n",
    "Please note there might be some policies and rules for a website for using the data. So before you do the web scraping please do not forget to read the data usage policies.\n",
    "\n",
    "For this article's purpose I am scraping the data from www.citypopulation.de website which has population statistics for different countries.\n",
    "\n",
    "Data use policy: http://citypopulation.de/termsofuse.html (DATA -> Population Data)\n",
    "\n",
    "![Data use terms policy](terms.png)\n",
    "\n",
    "### The data that I will be extracting in this jupyter notebook is for Oceania -> NEW ZEALAND http://citypopulation.de/en/newzealand/\n",
    "- I am only scraping data for North and South Islands (excluded Chatham islands)\n",
    "- North island: http://citypopulation.de/en/newzealand/northisland/\n",
    "- South island: http://citypopulation.de/en/newzealand/southisland/"
   ]
  },
  {
   "cell_type": "markdown",
   "metadata": {},
   "source": [
    "---\n",
    "## Let us scrape the website and fetch the information using requests and beautifulsoup libraries\n",
    "---"
   ]
  },
  {
   "cell_type": "markdown",
   "metadata": {},
   "source": [
    "## 1. Scraping website"
   ]
  },
  {
   "cell_type": "markdown",
   "metadata": {},
   "source": [
    "##### Python environment versions (for reference)"
   ]
  },
  {
   "cell_type": "code",
   "execution_count": 5,
   "metadata": {},
   "outputs": [
    {
     "name": "stdout",
     "output_type": "stream",
     "text": [
      "Python 3.7.0\n"
     ]
    }
   ],
   "source": [
    "!python --version"
   ]
  },
  {
   "cell_type": "code",
   "execution_count": 6,
   "metadata": {},
   "outputs": [
    {
     "name": "stdout",
     "output_type": "stream",
     "text": [
      "pip 19.3.1 from c:\\python37\\lib\\site-packages\\pip (python 3.7)\n",
      "\n"
     ]
    }
   ],
   "source": [
    "!pip --version"
   ]
  },
  {
   "cell_type": "code",
   "execution_count": 10,
   "metadata": {},
   "outputs": [],
   "source": [
    "# Importing libraries\n",
    "import requests\n",
    "import bs4\n",
    "from bs4 import BeautifulSoup\n",
    "import pandas as pd"
   ]
  },
  {
   "cell_type": "code",
   "execution_count": 14,
   "metadata": {},
   "outputs": [
    {
     "name": "stdout",
     "output_type": "stream",
     "text": [
      "Requests version: 2.19.1\n",
      "BeautifulSoup version: 4.7.1\n",
      "Pandas version: 0.23.4\n"
     ]
    }
   ],
   "source": [
    "print('Requests version: {}'.format(requests.__version__))\n",
    "print('BeautifulSoup version: {}'.format(bs4.__version__))\n",
    "print('Pandas version: {}'.format(pd.__version__))"
   ]
  },
  {
   "cell_type": "code",
   "execution_count": 19,
   "metadata": {},
   "outputs": [],
   "source": [
    "# URLs to scrape\n",
    "# This is a dictionary object with URLs. \n",
    "# We will use this dictionary to scrape information for each url at a time.\n",
    "urls = {\n",
    "    'north': 'http://citypopulation.de/en/newzealand/northisland',\n",
    "    'south': 'http://citypopulation.de/en/newzealand/southisland/'\n",
    "}"
   ]
  },
  {
   "cell_type": "code",
   "execution_count": 20,
   "metadata": {},
   "outputs": [
    {
     "name": "stdout",
     "output_type": "stream",
     "text": [
      "<Response [200]>\n"
     ]
    }
   ],
   "source": [
    "# Using requests to get the information\n",
    "output = requests.get(urls['north'])\n",
    "print(output)"
   ]
  },
  {
   "cell_type": "markdown",
   "metadata": {},
   "source": [
    "#### If you see a HTTP status code 200, meaning our request was a success\n",
    "\n",
    "#### Reference link here: https://en.wikipedia.org/wiki/List_of_HTTP_status_codes"
   ]
  },
  {
   "cell_type": "code",
   "execution_count": 50,
   "metadata": {},
   "outputs": [
    {
     "data": {
      "text/plain": [
       "'<!DOCTYPE html>\\r\\n<html lang=\"en\">\\r\\n<head>\\r\\n<meta charset=\"utf-8\">\\r\\n<meta name=\"description\" content=\"North Island (New Zealand): Regions &amp; Settlements with population statistics, charts and maps.\"'"
      ]
     },
     "execution_count": 50,
     "metadata": {},
     "output_type": "execute_result"
    }
   ],
   "source": [
    "# What's in the output?\n",
    "# Let's output upto 200 characters \n",
    "output.text[:200]"
   ]
  },
  {
   "cell_type": "code",
   "execution_count": 52,
   "metadata": {},
   "outputs": [
    {
     "name": "stdout",
     "output_type": "stream",
     "text": [
      "233654\n",
      "<class 'str'>\n"
     ]
    }
   ],
   "source": [
    "print(len(output.text))\n",
    "print(type(output.text))"
   ]
  },
  {
   "cell_type": "markdown",
   "metadata": {},
   "source": [
    "#### As you see the output above, output.text has the html tags and content of the webpage.\n",
    "\n",
    "#### Please know that you need some understanding of HTML and tags.\n",
    "\n",
    "#### Now let's use BeautifulSoup to parse the output.text string."
   ]
  },
  {
   "cell_type": "code",
   "execution_count": 26,
   "metadata": {},
   "outputs": [],
   "source": [
    "bs_output = BeautifulSoup(markup=output.text, features=\"html.parser\")"
   ]
  },
  {
   "cell_type": "code",
   "execution_count": 53,
   "metadata": {},
   "outputs": [
    {
     "data": {
      "text/plain": [
       "7"
      ]
     },
     "execution_count": 53,
     "metadata": {},
     "output_type": "execute_result"
    }
   ],
   "source": [
    "len(bs_output.contents)"
   ]
  },
  {
   "cell_type": "code",
   "execution_count": 54,
   "metadata": {},
   "outputs": [
    {
     "data": {
      "text/plain": [
       "list"
      ]
     },
     "execution_count": 54,
     "metadata": {},
     "output_type": "execute_result"
    }
   ],
   "source": [
    "type(bs_output.contents)"
   ]
  },
  {
   "cell_type": "code",
   "execution_count": 47,
   "metadata": {},
   "outputs": [
    {
     "data": {
      "text/plain": [
       "['html', '\\n']"
      ]
     },
     "execution_count": 47,
     "metadata": {},
     "output_type": "execute_result"
    }
   ],
   "source": [
    "bs_output.contents[:2]"
   ]
  },
  {
   "cell_type": "markdown",
   "metadata": {},
   "source": [
    "#### Feel free to print the whole output of the contents\n",
    "#### bs_output.contents displays the html tags and content of the URL\n",
    "\n",
    "The beauty of BeautifulSoup's parser is that you can interact with each elements and parts of html tags including classes and id values.\n",
    "\n",
    "You might wonder wonder what is the difference between requests' output.text and bs4's bs_output.contents?\n",
    "- Well requests output is a single string vs bs4's output is a list of objects\n",
    "\n",
    "Example below:"
   ]
  },
  {
   "cell_type": "code",
   "execution_count": 49,
   "metadata": {},
   "outputs": [
    {
     "data": {
      "text/plain": [
       "[<a href=\"/\">Home</a>,\n",
       " <a href=\"/Oceania.html\" itemprop=\"url\"><span itemprop=\"name\">Oceania</span></a>,\n",
       " <a href=\"/en/newzealand/\" itemprop=\"url\"><span itemprop=\"name\">New Zealand</span></a>,\n",
       " <a href=\"javascript:cp.changePageLang('en','de')\"><img alt=\"\" src=\"/images/icons/de.svg\" title=\"Deutsch\"/></a>,\n",
       " <a href=\"javascript:openMap()\"><img alt=\"Show Map\" id=\"smap\" src=\"/images/smaps/newzealand-cities.png\" title=\"Show Map\"/></a>]"
      ]
     },
     "execution_count": 49,
     "metadata": {},
     "output_type": "execute_result"
    }
   ],
   "source": [
    "bs_output.find_all('a')[:5]"
   ]
  },
  {
   "cell_type": "markdown",
   "metadata": {},
   "source": [
    "#### You see the output above? \n",
    "\n",
    "I've printed 5 items from the list output of BeautifulSoup's find_all function. I passed <a> tag as 'a' to find all <a> tag elements in the bs_output. Likewise you can extract and play around with all the html tags and their contents.\n",
    "    \n",
    "#### Before we do further extraction let us try to understand which parts of our URL page we would like to extract the data from."
   ]
  },
  {
   "cell_type": "markdown",
   "metadata": {},
   "source": [
    "# 2. Exploring HTML content and extraction\n",
    "\n",
    "![Table data](table.png)"
   ]
  },
  {
   "cell_type": "code",
   "execution_count": 56,
   "metadata": {},
   "outputs": [],
   "source": [
    "# Our data is in the <table> tag with id='ts'\n",
    "#\n",
    "table_output = bs_output.find(name='table', attrs={'id': 'ts'})"
   ]
  },
  {
   "cell_type": "code",
   "execution_count": 59,
   "metadata": {},
   "outputs": [
    {
     "data": {
      "text/plain": [
       "['\\n', <thead>\n",
       " <tr id=\"tsh\"><th class=\"rname\" data-coltype=\"name\" onclick=\"javascript:sort('ts',0,false)\"><a href=\"javascript:sort('ts',0,false)\">Name</a></th>\n",
       " <th class=\"rstatus\" data-coltype=\"status\" onclick=\"javascript:sort('ts',1,false)\"><a href=\"javascript:sort('ts',1,false)\">Status</a></th><th class=\"radm rarea\" data-coltype=\"adm\" onclick=\"javascript:sort('ts',2,false)\"><a href=\"javascript:sort('ts',2,false)\">Region</a></th><th class=\"rpop prio5\" data-coldate=\"1996-06-30\" data-colhead=\"E 1996-06-30\" data-coltype=\"pop\" onclick=\"javascript:sort('ts',3,true)\"><a href=\"javascript:sort('ts',3,true)\">Population</a><br/><span class=\"unit\">Estimate<br/>1996-06-30</span></th><th class=\"rpop prio4\" data-coldate=\"2001-06-30\" data-colhead=\"E 2001-06-30\" data-coltype=\"pop\" onclick=\"javascript:sort('ts',4,true)\"><a href=\"javascript:sort('ts',4,true)\">Population</a><br/><span class=\"unit\">Estimate<br/>2001-06-30</span></th><th class=\"rpop prio3\" data-coldate=\"2006-06-30\" data-colhead=\"E 2006-06-30\" data-coltype=\"pop\" onclick=\"javascript:sort('ts',5,true)\"><a href=\"javascript:sort('ts',5,true)\">Population</a><br/><span class=\"unit\">Estimate<br/>2006-06-30</span></th><th class=\"rpop prio2\" data-coldate=\"2013-06-30\" data-colhead=\"E 2013-06-30\" data-coltype=\"pop\" onclick=\"javascript:sort('ts',6,true)\"><a href=\"javascript:sort('ts',6,true)\">Population</a><br/><span class=\"unit\">Estimate<br/>2013-06-30</span></th><th class=\"rpop prio1\" data-coldate=\"2018-06-30\" data-colhead=\"E 2018-06-30\" data-coltype=\"pop\" onclick=\"javascript:sort('ts',7,true)\"><a href=\"javascript:sort('ts',7,true)\">Population</a><br/><span class=\"unit\">Estimate<br/>2018-06-30</span></th><th class=\"sc\" data-coltype=\"other\"> </th></tr>\n",
       " </thead>]"
      ]
     },
     "execution_count": 59,
     "metadata": {},
     "output_type": "execute_result"
    }
   ],
   "source": [
    "table_output.contents[:2] # prints a list of tag elements"
   ]
  },
  {
   "cell_type": "code",
   "execution_count": 66,
   "metadata": {},
   "outputs": [
    {
     "data": {
      "text/plain": [
       "['Name',\n",
       " 'Status',\n",
       " 'Region',\n",
       " 'PopulationEstimate1996-06-30',\n",
       " 'PopulationEstimate2001-06-30',\n",
       " 'PopulationEstimate2006-06-30',\n",
       " 'PopulationEstimate2013-06-30',\n",
       " 'PopulationEstimate2018-06-30',\n",
       " '\\xa0']"
      ]
     },
     "execution_count": 66,
     "metadata": {},
     "output_type": "execute_result"
    }
   ],
   "source": [
    "# Extracting column names from <tr> tag\n",
    "[x.text for x in table_output.find_all('th')] # outputs a list of values of the <th> elements in the table output"
   ]
  },
  {
   "cell_type": "markdown",
   "metadata": {},
   "source": [
    "#### Notice the output above, we don't need the last value"
   ]
  },
  {
   "cell_type": "code",
   "execution_count": 79,
   "metadata": {},
   "outputs": [
    {
     "data": {
      "text/plain": [
       "['Name',\n",
       " 'Status',\n",
       " 'Region',\n",
       " 'PopulationEstimate1996-06-30',\n",
       " 'PopulationEstimate2001-06-30',\n",
       " 'PopulationEstimate2006-06-30',\n",
       " 'PopulationEstimate2013-06-30',\n",
       " 'PopulationEstimate2018-06-30']"
      ]
     },
     "execution_count": 79,
     "metadata": {},
     "output_type": "execute_result"
    }
   ],
   "source": [
    "# Append the column names into table_columns empty list\n",
    "#\n",
    "table_columns = [x.get_text() for x in table_output.find_all('th')][:-1]\n",
    "table_columns"
   ]
  },
  {
   "cell_type": "code",
   "execution_count": 84,
   "metadata": {},
   "outputs": [],
   "source": [
    "# Extracting table output which is in <tbody> tag\n",
    "#\n",
    "table_body = table_output.find_all('tbody')"
   ]
  },
  {
   "cell_type": "markdown",
   "metadata": {},
   "source": [
    "#### Feel free to print the output of table_body, it will be long output result"
   ]
  },
  {
   "cell_type": "code",
   "execution_count": 98,
   "metadata": {},
   "outputs": [],
   "source": [
    "north_island_output = []\n",
    "for item in table_body:\n",
    "    rows = item.find_all('tr') # extracts <tr> elements in <tbody>\n",
    "    for row in rows:\n",
    "        td = row.find_all('td') # extracts <td> elements in each row i.e. <tr>\n",
    "        td_values = [val.text for val in td] # extracts value of each <td>\n",
    "        north_island_output.append(td_values) # appends values to the list"
   ]
  },
  {
   "cell_type": "code",
   "execution_count": 99,
   "metadata": {},
   "outputs": [
    {
     "data": {
      "text/plain": [
       "['Algies Bay',\n",
       " 'Rural Settlement',\n",
       " 'Auckland',\n",
       " '550',\n",
       " '690',\n",
       " '800',\n",
       " '870',\n",
       " '980',\n",
       " '→']"
      ]
     },
     "execution_count": 99,
     "metadata": {},
     "output_type": "execute_result"
    }
   ],
   "source": [
    "north_island_output[1]"
   ]
  },
  {
   "cell_type": "markdown",
   "metadata": {},
   "source": [
    "#### Again, in the output above we don't need the last value, so let's fix that"
   ]
  },
  {
   "cell_type": "code",
   "execution_count": 100,
   "metadata": {},
   "outputs": [],
   "source": [
    "north_island_output = []\n",
    "for item in table_body:\n",
    "    rows = item.find_all('tr') # extracts <tr> elements in <tbody>\n",
    "    for row in rows:\n",
    "        td = row.find_all('td') # extracts <td> elements in each row i.e. <tr>\n",
    "        td_values = [val.text for val in td] # extracts value of each <td>\n",
    "        north_island_output.append(td_values[:-1]) # appends values to the list, also excludes the last value that is not needed"
   ]
  },
  {
   "cell_type": "code",
   "execution_count": 101,
   "metadata": {},
   "outputs": [
    {
     "data": {
      "text/plain": [
       "['Algies Bay',\n",
       " 'Rural Settlement',\n",
       " 'Auckland',\n",
       " '550',\n",
       " '690',\n",
       " '800',\n",
       " '870',\n",
       " '980']"
      ]
     },
     "execution_count": 101,
     "metadata": {},
     "output_type": "execute_result"
    }
   ],
   "source": [
    "north_island_output[1]"
   ]
  },
  {
   "cell_type": "markdown",
   "metadata": {},
   "source": [
    "#### That's it, we have our table column names and the table data append those two into a dataframe"
   ]
  },
  {
   "cell_type": "code",
   "execution_count": 102,
   "metadata": {},
   "outputs": [
    {
     "data": {
      "text/plain": [
       "['Name',\n",
       " 'Status',\n",
       " 'Region',\n",
       " 'PopulationEstimate1996-06-30',\n",
       " 'PopulationEstimate2001-06-30',\n",
       " 'PopulationEstimate2006-06-30',\n",
       " 'PopulationEstimate2013-06-30',\n",
       " 'PopulationEstimate2018-06-30']"
      ]
     },
     "execution_count": 102,
     "metadata": {},
     "output_type": "execute_result"
    }
   ],
   "source": [
    "table_columns"
   ]
  },
  {
   "cell_type": "code",
   "execution_count": 103,
   "metadata": {},
   "outputs": [],
   "source": [
    "north_data = pd.DataFrame(\n",
    "    data=north_island_output,\n",
    "    columns=table_columns\n",
    ")"
   ]
  },
  {
   "cell_type": "code",
   "execution_count": 104,
   "metadata": {},
   "outputs": [
    {
     "data": {
      "text/html": [
       "<div>\n",
       "<style scoped>\n",
       "    .dataframe tbody tr th:only-of-type {\n",
       "        vertical-align: middle;\n",
       "    }\n",
       "\n",
       "    .dataframe tbody tr th {\n",
       "        vertical-align: top;\n",
       "    }\n",
       "\n",
       "    .dataframe thead th {\n",
       "        text-align: right;\n",
       "    }\n",
       "</style>\n",
       "<table border=\"1\" class=\"dataframe\">\n",
       "  <thead>\n",
       "    <tr style=\"text-align: right;\">\n",
       "      <th></th>\n",
       "      <th>Name</th>\n",
       "      <th>Status</th>\n",
       "      <th>Region</th>\n",
       "      <th>PopulationEstimate1996-06-30</th>\n",
       "      <th>PopulationEstimate2001-06-30</th>\n",
       "      <th>PopulationEstimate2006-06-30</th>\n",
       "      <th>PopulationEstimate2013-06-30</th>\n",
       "      <th>PopulationEstimate2018-06-30</th>\n",
       "    </tr>\n",
       "  </thead>\n",
       "  <tbody>\n",
       "    <tr>\n",
       "      <th>0</th>\n",
       "      <td>Ahipara</td>\n",
       "      <td>Rural Settlement</td>\n",
       "      <td>Northland</td>\n",
       "      <td>930</td>\n",
       "      <td>1,050</td>\n",
       "      <td>1,120</td>\n",
       "      <td>1,130</td>\n",
       "      <td>1,180</td>\n",
       "    </tr>\n",
       "    <tr>\n",
       "      <th>1</th>\n",
       "      <td>Algies Bay</td>\n",
       "      <td>Rural Settlement</td>\n",
       "      <td>Auckland</td>\n",
       "      <td>550</td>\n",
       "      <td>690</td>\n",
       "      <td>800</td>\n",
       "      <td>870</td>\n",
       "      <td>980</td>\n",
       "    </tr>\n",
       "    <tr>\n",
       "      <th>2</th>\n",
       "      <td>Arapuni</td>\n",
       "      <td>Rural Settlement</td>\n",
       "      <td>Waikato</td>\n",
       "      <td>290</td>\n",
       "      <td>260</td>\n",
       "      <td>230</td>\n",
       "      <td>250</td>\n",
       "      <td>260</td>\n",
       "    </tr>\n",
       "    <tr>\n",
       "      <th>3</th>\n",
       "      <td>Ashhurst</td>\n",
       "      <td>Small Urban Area</td>\n",
       "      <td>Manawatu-Wanganui</td>\n",
       "      <td>2,530</td>\n",
       "      <td>2,520</td>\n",
       "      <td>2,510</td>\n",
       "      <td>2,750</td>\n",
       "      <td>2,990</td>\n",
       "    </tr>\n",
       "    <tr>\n",
       "      <th>4</th>\n",
       "      <td>Athenree</td>\n",
       "      <td>Rural Settlement</td>\n",
       "      <td>Bay of Plenty</td>\n",
       "      <td>510</td>\n",
       "      <td>530</td>\n",
       "      <td>630</td>\n",
       "      <td>700</td>\n",
       "      <td>740</td>\n",
       "    </tr>\n",
       "  </tbody>\n",
       "</table>\n",
       "</div>"
      ],
      "text/plain": [
       "         Name            Status             Region  \\\n",
       "0     Ahipara  Rural Settlement          Northland   \n",
       "1  Algies Bay  Rural Settlement           Auckland   \n",
       "2     Arapuni  Rural Settlement            Waikato   \n",
       "3    Ashhurst  Small Urban Area  Manawatu-Wanganui   \n",
       "4    Athenree  Rural Settlement      Bay of Plenty   \n",
       "\n",
       "  PopulationEstimate1996-06-30 PopulationEstimate2001-06-30  \\\n",
       "0                          930                        1,050   \n",
       "1                          550                          690   \n",
       "2                          290                          260   \n",
       "3                        2,530                        2,520   \n",
       "4                          510                          530   \n",
       "\n",
       "  PopulationEstimate2006-06-30 PopulationEstimate2013-06-30  \\\n",
       "0                        1,120                        1,130   \n",
       "1                          800                          870   \n",
       "2                          230                          250   \n",
       "3                        2,510                        2,750   \n",
       "4                          630                          700   \n",
       "\n",
       "  PopulationEstimate2018-06-30  \n",
       "0                        1,180  \n",
       "1                          980  \n",
       "2                          260  \n",
       "3                        2,990  \n",
       "4                          740  "
      ]
     },
     "execution_count": 104,
     "metadata": {},
     "output_type": "execute_result"
    }
   ],
   "source": [
    "north_data.head()"
   ]
  },
  {
   "cell_type": "markdown",
   "metadata": {},
   "source": [
    "### We can follow the same procedure above for south island data as well. \n",
    "\n",
    "### For a better approach let us put the whole process using a function."
   ]
  },
  {
   "cell_type": "code",
   "execution_count": 105,
   "metadata": {},
   "outputs": [],
   "source": [
    "# Importing libraries\n",
    "import requests\n",
    "from bs4 import BeautifulSoup\n",
    "import pandas as pd\n",
    "\n",
    "# Variables\n",
    "south_island_output = []\n",
    "north_island_output = []\n",
    "table_columns = []\n",
    "\n",
    "# URLs for North and South islands\n",
    "urls = {\n",
    "    'north': 'http://citypopulation.de/en/newzealand/northisland',\n",
    "    'south': 'http://citypopulation.de/en/newzealand/southisland/'\n",
    "}\n",
    "\n",
    "# Function that downloads the data\n",
    "def download_data():\n",
    "    \"\"\"\n",
    "    Function extracts td values by looping each child element of the parent.\n",
    "    \n",
    "    Two empty lists south_island_output and north_island_output are initialised.\n",
    "    \n",
    "    A urls dictionary object with north island and south island urls is also initialised.\n",
    "    \n",
    "    Pseudo code:\n",
    "    - for each item in the dictionary\n",
    "        - connect to the url\n",
    "            - if success (response code == 200), then loop through the page data\n",
    "                - for each row_item in body (loop - look for <tr> element):\n",
    "                    - for each row in the row_item (loop and look for <td> element):\n",
    "                        - for each <td> element, extract the text value\n",
    "                            - finally append those text values into output list\n",
    "    \"\"\"    \n",
    "    for url in urls:\n",
    "        print(url, urls[url])\n",
    "        \n",
    "        ## response\n",
    "        response = requests.get(urls[url])\n",
    "        \n",
    "        if response.status_code == 200:\n",
    "            print('Response code is 200. Success!')\n",
    "            try:\n",
    "                ## web scraping\n",
    "                soup = BeautifulSoup(response.text, \"html.parser\")\n",
    "                table = soup.find(name='table', attrs={'id': 'ts'})\n",
    "                table_columns.append([x.get_text() for x in table.find_all('th')][:-1])\n",
    "                body = table.find_all('tbody')\n",
    "                for item in body:\n",
    "                    rows = item.find_all('tr')    \n",
    "                    for row in rows:\n",
    "                        td = row.find_all('td')\n",
    "                        td_values = [val.text for val in td]\n",
    "                        if url == 'north':\n",
    "                            north_island_output.append(td_values[:-1]) # excluding last column that has an arrow as a value\n",
    "                        else:\n",
    "                            south_island_output.append(td_values[:-1]) # excluding last column that has an arrow as a value\n",
    "            except Exception as ex:\n",
    "                print(str(ex))\n",
    "        else:\n",
    "            print('Oops! {0}'.format(response.status_code))"
   ]
  },
  {
   "cell_type": "code",
   "execution_count": 106,
   "metadata": {},
   "outputs": [
    {
     "name": "stdout",
     "output_type": "stream",
     "text": [
      "north http://citypopulation.de/en/newzealand/northisland\n",
      "Response code is 200. Success!\n",
      "south http://citypopulation.de/en/newzealand/southisland/\n",
      "Response code is 200. Success!\n"
     ]
    }
   ],
   "source": [
    "download_data()"
   ]
  },
  {
   "cell_type": "code",
   "execution_count": 108,
   "metadata": {},
   "outputs": [
    {
     "data": {
      "text/plain": [
       "['Name',\n",
       " 'Status',\n",
       " 'Region',\n",
       " 'PopulationEstimate1996-06-30',\n",
       " 'PopulationEstimate2001-06-30',\n",
       " 'PopulationEstimate2006-06-30',\n",
       " 'PopulationEstimate2013-06-30',\n",
       " 'PopulationEstimate2018-06-30']"
      ]
     },
     "execution_count": 108,
     "metadata": {},
     "output_type": "execute_result"
    }
   ],
   "source": [
    "table_columns[0]"
   ]
  },
  {
   "cell_type": "code",
   "execution_count": 110,
   "metadata": {},
   "outputs": [],
   "source": [
    "# North island dataframe\n",
    "north_island_data = pd.DataFrame(data=north_island_output, columns=table_columns[0])\n",
    "\n",
    "# South island dataframe\n",
    "south_island_data = pd.DataFrame(data=south_island_output, columns=table_columns[0])"
   ]
  },
  {
   "cell_type": "code",
   "execution_count": 111,
   "metadata": {},
   "outputs": [
    {
     "data": {
      "text/html": [
       "<div>\n",
       "<style scoped>\n",
       "    .dataframe tbody tr th:only-of-type {\n",
       "        vertical-align: middle;\n",
       "    }\n",
       "\n",
       "    .dataframe tbody tr th {\n",
       "        vertical-align: top;\n",
       "    }\n",
       "\n",
       "    .dataframe thead th {\n",
       "        text-align: right;\n",
       "    }\n",
       "</style>\n",
       "<table border=\"1\" class=\"dataframe\">\n",
       "  <thead>\n",
       "    <tr style=\"text-align: right;\">\n",
       "      <th></th>\n",
       "      <th>Name</th>\n",
       "      <th>Status</th>\n",
       "      <th>Region</th>\n",
       "      <th>PopulationEstimate1996-06-30</th>\n",
       "      <th>PopulationEstimate2001-06-30</th>\n",
       "      <th>PopulationEstimate2006-06-30</th>\n",
       "      <th>PopulationEstimate2013-06-30</th>\n",
       "      <th>PopulationEstimate2018-06-30</th>\n",
       "    </tr>\n",
       "  </thead>\n",
       "  <tbody>\n",
       "    <tr>\n",
       "      <th>0</th>\n",
       "      <td>Ahipara</td>\n",
       "      <td>Rural Settlement</td>\n",
       "      <td>Northland</td>\n",
       "      <td>930</td>\n",
       "      <td>1,050</td>\n",
       "      <td>1,120</td>\n",
       "      <td>1,130</td>\n",
       "      <td>1,180</td>\n",
       "    </tr>\n",
       "    <tr>\n",
       "      <th>1</th>\n",
       "      <td>Algies Bay</td>\n",
       "      <td>Rural Settlement</td>\n",
       "      <td>Auckland</td>\n",
       "      <td>550</td>\n",
       "      <td>690</td>\n",
       "      <td>800</td>\n",
       "      <td>870</td>\n",
       "      <td>980</td>\n",
       "    </tr>\n",
       "    <tr>\n",
       "      <th>2</th>\n",
       "      <td>Arapuni</td>\n",
       "      <td>Rural Settlement</td>\n",
       "      <td>Waikato</td>\n",
       "      <td>290</td>\n",
       "      <td>260</td>\n",
       "      <td>230</td>\n",
       "      <td>250</td>\n",
       "      <td>260</td>\n",
       "    </tr>\n",
       "    <tr>\n",
       "      <th>3</th>\n",
       "      <td>Ashhurst</td>\n",
       "      <td>Small Urban Area</td>\n",
       "      <td>Manawatu-Wanganui</td>\n",
       "      <td>2,530</td>\n",
       "      <td>2,520</td>\n",
       "      <td>2,510</td>\n",
       "      <td>2,750</td>\n",
       "      <td>2,990</td>\n",
       "    </tr>\n",
       "    <tr>\n",
       "      <th>4</th>\n",
       "      <td>Athenree</td>\n",
       "      <td>Rural Settlement</td>\n",
       "      <td>Bay of Plenty</td>\n",
       "      <td>510</td>\n",
       "      <td>530</td>\n",
       "      <td>630</td>\n",
       "      <td>700</td>\n",
       "      <td>740</td>\n",
       "    </tr>\n",
       "  </tbody>\n",
       "</table>\n",
       "</div>"
      ],
      "text/plain": [
       "         Name            Status             Region  \\\n",
       "0     Ahipara  Rural Settlement          Northland   \n",
       "1  Algies Bay  Rural Settlement           Auckland   \n",
       "2     Arapuni  Rural Settlement            Waikato   \n",
       "3    Ashhurst  Small Urban Area  Manawatu-Wanganui   \n",
       "4    Athenree  Rural Settlement      Bay of Plenty   \n",
       "\n",
       "  PopulationEstimate1996-06-30 PopulationEstimate2001-06-30  \\\n",
       "0                          930                        1,050   \n",
       "1                          550                          690   \n",
       "2                          290                          260   \n",
       "3                        2,530                        2,520   \n",
       "4                          510                          530   \n",
       "\n",
       "  PopulationEstimate2006-06-30 PopulationEstimate2013-06-30  \\\n",
       "0                        1,120                        1,130   \n",
       "1                          800                          870   \n",
       "2                          230                          250   \n",
       "3                        2,510                        2,750   \n",
       "4                          630                          700   \n",
       "\n",
       "  PopulationEstimate2018-06-30  \n",
       "0                        1,180  \n",
       "1                          980  \n",
       "2                          260  \n",
       "3                        2,990  \n",
       "4                          740  "
      ]
     },
     "execution_count": 111,
     "metadata": {},
     "output_type": "execute_result"
    }
   ],
   "source": [
    "north_island_data.head()"
   ]
  },
  {
   "cell_type": "code",
   "execution_count": 112,
   "metadata": {},
   "outputs": [
    {
     "data": {
      "text/html": [
       "<div>\n",
       "<style scoped>\n",
       "    .dataframe tbody tr th:only-of-type {\n",
       "        vertical-align: middle;\n",
       "    }\n",
       "\n",
       "    .dataframe tbody tr th {\n",
       "        vertical-align: top;\n",
       "    }\n",
       "\n",
       "    .dataframe thead th {\n",
       "        text-align: right;\n",
       "    }\n",
       "</style>\n",
       "<table border=\"1\" class=\"dataframe\">\n",
       "  <thead>\n",
       "    <tr style=\"text-align: right;\">\n",
       "      <th></th>\n",
       "      <th>Name</th>\n",
       "      <th>Status</th>\n",
       "      <th>Region</th>\n",
       "      <th>PopulationEstimate1996-06-30</th>\n",
       "      <th>PopulationEstimate2001-06-30</th>\n",
       "      <th>PopulationEstimate2006-06-30</th>\n",
       "      <th>PopulationEstimate2013-06-30</th>\n",
       "      <th>PopulationEstimate2018-06-30</th>\n",
       "    </tr>\n",
       "  </thead>\n",
       "  <tbody>\n",
       "    <tr>\n",
       "      <th>0</th>\n",
       "      <td>Ahaura</td>\n",
       "      <td>Rural Settlement</td>\n",
       "      <td>West Coast</td>\n",
       "      <td>120</td>\n",
       "      <td>140</td>\n",
       "      <td>110</td>\n",
       "      <td>100</td>\n",
       "      <td>80</td>\n",
       "    </tr>\n",
       "    <tr>\n",
       "      <th>1</th>\n",
       "      <td>Akaroa</td>\n",
       "      <td>Rural Settlement</td>\n",
       "      <td>Canterbury</td>\n",
       "      <td>680</td>\n",
       "      <td>610</td>\n",
       "      <td>620</td>\n",
       "      <td>670</td>\n",
       "      <td>630</td>\n",
       "    </tr>\n",
       "    <tr>\n",
       "      <th>2</th>\n",
       "      <td>Alexandra</td>\n",
       "      <td>Small Urban Area</td>\n",
       "      <td>Otago</td>\n",
       "      <td>4,690</td>\n",
       "      <td>4,480</td>\n",
       "      <td>4,940</td>\n",
       "      <td>4,920</td>\n",
       "      <td>5,510</td>\n",
       "    </tr>\n",
       "    <tr>\n",
       "      <th>3</th>\n",
       "      <td>Allanton</td>\n",
       "      <td>Rural Settlement</td>\n",
       "      <td>Otago</td>\n",
       "      <td>220</td>\n",
       "      <td>240</td>\n",
       "      <td>260</td>\n",
       "      <td>260</td>\n",
       "      <td>290</td>\n",
       "    </tr>\n",
       "    <tr>\n",
       "      <th>4</th>\n",
       "      <td>Amberley</td>\n",
       "      <td>Small Urban Area</td>\n",
       "      <td>Canterbury</td>\n",
       "      <td>1,050</td>\n",
       "      <td>1,160</td>\n",
       "      <td>1,340</td>\n",
       "      <td>1,620</td>\n",
       "      <td>1,800</td>\n",
       "    </tr>\n",
       "  </tbody>\n",
       "</table>\n",
       "</div>"
      ],
      "text/plain": [
       "        Name            Status      Region PopulationEstimate1996-06-30  \\\n",
       "0     Ahaura  Rural Settlement  West Coast                          120   \n",
       "1     Akaroa  Rural Settlement  Canterbury                          680   \n",
       "2  Alexandra  Small Urban Area       Otago                        4,690   \n",
       "3   Allanton  Rural Settlement       Otago                          220   \n",
       "4   Amberley  Small Urban Area  Canterbury                        1,050   \n",
       "\n",
       "  PopulationEstimate2001-06-30 PopulationEstimate2006-06-30  \\\n",
       "0                          140                          110   \n",
       "1                          610                          620   \n",
       "2                        4,480                        4,940   \n",
       "3                          240                          260   \n",
       "4                        1,160                        1,340   \n",
       "\n",
       "  PopulationEstimate2013-06-30 PopulationEstimate2018-06-30  \n",
       "0                          100                           80  \n",
       "1                          670                          630  \n",
       "2                        4,920                        5,510  \n",
       "3                          260                          290  \n",
       "4                        1,620                        1,800  "
      ]
     },
     "execution_count": 112,
     "metadata": {},
     "output_type": "execute_result"
    }
   ],
   "source": [
    "south_island_data.head()"
   ]
  },
  {
   "cell_type": "markdown",
   "metadata": {},
   "source": [
    "# 3. EDA"
   ]
  },
  {
   "cell_type": "markdown",
   "metadata": {},
   "source": [
    "#### For data analysis, let's take out unwanted columns from our dataframes"
   ]
  },
  {
   "cell_type": "code",
   "execution_count": 113,
   "metadata": {},
   "outputs": [],
   "source": [
    "north_island_data = north_island_data[['Name', 'Status','Region', 'PopulationEstimate2018-06-30']]\n",
    "south_island_data = south_island_data[['Name', 'Status','Region', 'PopulationEstimate2018-06-30']]"
   ]
  },
  {
   "cell_type": "code",
   "execution_count": 114,
   "metadata": {},
   "outputs": [
    {
     "data": {
      "text/html": [
       "<div>\n",
       "<style scoped>\n",
       "    .dataframe tbody tr th:only-of-type {\n",
       "        vertical-align: middle;\n",
       "    }\n",
       "\n",
       "    .dataframe tbody tr th {\n",
       "        vertical-align: top;\n",
       "    }\n",
       "\n",
       "    .dataframe thead th {\n",
       "        text-align: right;\n",
       "    }\n",
       "</style>\n",
       "<table border=\"1\" class=\"dataframe\">\n",
       "  <thead>\n",
       "    <tr style=\"text-align: right;\">\n",
       "      <th></th>\n",
       "      <th>Name</th>\n",
       "      <th>Status</th>\n",
       "      <th>Region</th>\n",
       "      <th>PopulationEstimate2018-06-30</th>\n",
       "    </tr>\n",
       "  </thead>\n",
       "  <tbody>\n",
       "    <tr>\n",
       "      <th>0</th>\n",
       "      <td>Ahipara</td>\n",
       "      <td>Rural Settlement</td>\n",
       "      <td>Northland</td>\n",
       "      <td>1,180</td>\n",
       "    </tr>\n",
       "    <tr>\n",
       "      <th>1</th>\n",
       "      <td>Algies Bay</td>\n",
       "      <td>Rural Settlement</td>\n",
       "      <td>Auckland</td>\n",
       "      <td>980</td>\n",
       "    </tr>\n",
       "  </tbody>\n",
       "</table>\n",
       "</div>"
      ],
      "text/plain": [
       "         Name            Status     Region PopulationEstimate2018-06-30\n",
       "0     Ahipara  Rural Settlement  Northland                        1,180\n",
       "1  Algies Bay  Rural Settlement   Auckland                          980"
      ]
     },
     "execution_count": 114,
     "metadata": {},
     "output_type": "execute_result"
    }
   ],
   "source": [
    "north_island_data.head(2)"
   ]
  },
  {
   "cell_type": "code",
   "execution_count": 115,
   "metadata": {},
   "outputs": [
    {
     "data": {
      "text/html": [
       "<div>\n",
       "<style scoped>\n",
       "    .dataframe tbody tr th:only-of-type {\n",
       "        vertical-align: middle;\n",
       "    }\n",
       "\n",
       "    .dataframe tbody tr th {\n",
       "        vertical-align: top;\n",
       "    }\n",
       "\n",
       "    .dataframe thead th {\n",
       "        text-align: right;\n",
       "    }\n",
       "</style>\n",
       "<table border=\"1\" class=\"dataframe\">\n",
       "  <thead>\n",
       "    <tr style=\"text-align: right;\">\n",
       "      <th></th>\n",
       "      <th>Name</th>\n",
       "      <th>Status</th>\n",
       "      <th>Region</th>\n",
       "      <th>PopulationEstimate2018-06-30</th>\n",
       "    </tr>\n",
       "  </thead>\n",
       "  <tbody>\n",
       "    <tr>\n",
       "      <th>0</th>\n",
       "      <td>Ahaura</td>\n",
       "      <td>Rural Settlement</td>\n",
       "      <td>West Coast</td>\n",
       "      <td>80</td>\n",
       "    </tr>\n",
       "    <tr>\n",
       "      <th>1</th>\n",
       "      <td>Akaroa</td>\n",
       "      <td>Rural Settlement</td>\n",
       "      <td>Canterbury</td>\n",
       "      <td>630</td>\n",
       "    </tr>\n",
       "  </tbody>\n",
       "</table>\n",
       "</div>"
      ],
      "text/plain": [
       "     Name            Status      Region PopulationEstimate2018-06-30\n",
       "0  Ahaura  Rural Settlement  West Coast                           80\n",
       "1  Akaroa  Rural Settlement  Canterbury                          630"
      ]
     },
     "execution_count": 115,
     "metadata": {},
     "output_type": "execute_result"
    }
   ],
   "source": [
    "south_island_data.head(2)"
   ]
  },
  {
   "cell_type": "markdown",
   "metadata": {},
   "source": [
    "## 3.1 Basic analysis: North island"
   ]
  },
  {
   "cell_type": "code",
   "execution_count": null,
   "metadata": {},
   "outputs": [],
   "source": []
  },
  {
   "cell_type": "code",
   "execution_count": null,
   "metadata": {},
   "outputs": [],
   "source": []
  },
  {
   "cell_type": "code",
   "execution_count": null,
   "metadata": {},
   "outputs": [],
   "source": []
  },
  {
   "cell_type": "code",
   "execution_count": null,
   "metadata": {},
   "outputs": [],
   "source": []
  },
  {
   "cell_type": "code",
   "execution_count": null,
   "metadata": {},
   "outputs": [],
   "source": []
  },
  {
   "cell_type": "code",
   "execution_count": null,
   "metadata": {},
   "outputs": [],
   "source": []
  },
  {
   "cell_type": "code",
   "execution_count": null,
   "metadata": {},
   "outputs": [],
   "source": []
  },
  {
   "cell_type": "code",
   "execution_count": null,
   "metadata": {},
   "outputs": [],
   "source": []
  },
  {
   "cell_type": "code",
   "execution_count": null,
   "metadata": {},
   "outputs": [],
   "source": []
  },
  {
   "cell_type": "code",
   "execution_count": null,
   "metadata": {},
   "outputs": [],
   "source": []
  },
  {
   "cell_type": "code",
   "execution_count": null,
   "metadata": {},
   "outputs": [],
   "source": []
  },
  {
   "cell_type": "code",
   "execution_count": null,
   "metadata": {},
   "outputs": [],
   "source": []
  }
 ],
 "metadata": {
  "kernelspec": {
   "display_name": "Python 3",
   "language": "python",
   "name": "python3"
  },
  "language_info": {
   "codemirror_mode": {
    "name": "ipython",
    "version": 3
   },
   "file_extension": ".py",
   "mimetype": "text/x-python",
   "name": "python",
   "nbconvert_exporter": "python",
   "pygments_lexer": "ipython3",
   "version": "3.7.0"
  }
 },
 "nbformat": 4,
 "nbformat_minor": 4
}
